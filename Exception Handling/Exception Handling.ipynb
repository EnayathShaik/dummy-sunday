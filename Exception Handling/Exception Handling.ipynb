{
 "cells": [
  {
   "cell_type": "code",
   "execution_count": 17,
   "id": "5c60c81e",
   "metadata": {},
   "outputs": [
    {
     "name": "stdout",
     "output_type": "stream",
     "text": [
      "('64bit', 'WindowsPE')\n",
      "3.11.5 | packaged by Anaconda, Inc. | (main, Sep 11 2023, 13:26:23) [MSC v.1916 64 bit (AMD64)]\n"
     ]
    }
   ],
   "source": [
    "import platform , sys\n",
    "print( platform.architecture() )\n",
    "\n",
    "print(sys.version)\n"
   ]
  },
  {
   "cell_type": "markdown",
   "id": "c7070edf",
   "metadata": {},
   "source": [
    "# Exception Handling\n",
    "\n",
    "\n",
    "- the art of handling the errors is referred as EXCEPTION Handling\n",
    "- error is something that is going to happen, but if there is a possible way of catching it, them that error becomes an exception\n",
    "\n",
    "\n",
    "https://docs.python.org/3/library/exceptions.html\n",
    "\n",
    "\n",
    "# Warnings : \n",
    "\n",
    "- to be taken care, but its not a priority as of now...\n",
    "- if wwarnings are there, then code will be executed \n",
    "\n",
    "https://python.readthedocs.io/en/latest/library/warnings.html"
   ]
  },
  {
   "cell_type": "markdown",
   "id": "ed4a8fd3",
   "metadata": {},
   "source": [
    "#### 1. Compile time Error : \n",
    "\n",
    "- Interpreter read the code and it found some SYNTAX error\n",
    "- It didn't allowed to print even a single line\n",
    "- No Execution of code\n"
   ]
  },
  {
   "cell_type": "code",
   "execution_count": 3,
   "id": "a57c8cea",
   "metadata": {},
   "outputs": [
    {
     "ename": "IndentationError",
     "evalue": "unexpected indent (3579690184.py, line 6)",
     "output_type": "error",
     "traceback": [
      "\u001b[1;36m  Cell \u001b[1;32mIn[3], line 6\u001b[1;36m\u001b[0m\n\u001b[1;33m    else : print(\"Odd\")\u001b[0m\n\u001b[1;37m    ^\u001b[0m\n\u001b[1;31mIndentationError\u001b[0m\u001b[1;31m:\u001b[0m unexpected indent\n"
     ]
    }
   ],
   "source": [
    "print('Start .....')\n",
    "\n",
    "num = 11\n",
    "\n",
    "if num%2 == 0 : print('Even')\n",
    "    else : print(\"Odd\")\n",
    "        \n",
    "print('..... End ')\n"
   ]
  },
  {
   "cell_type": "code",
   "execution_count": 4,
   "id": "f7af537b",
   "metadata": {},
   "outputs": [
    {
     "ename": "SyntaxError",
     "evalue": "expected ':' (1357672861.py, line 4)",
     "output_type": "error",
     "traceback": [
      "\u001b[1;36m  Cell \u001b[1;32mIn[4], line 4\u001b[1;36m\u001b[0m\n\u001b[1;33m    for i in range(10)\u001b[0m\n\u001b[1;37m                      ^\u001b[0m\n\u001b[1;31mSyntaxError\u001b[0m\u001b[1;31m:\u001b[0m expected ':'\n"
     ]
    }
   ],
   "source": [
    "print('Start .....')\n",
    "\n",
    "\n",
    "for i in range(10)\n",
    "    print(\"Python\")\n",
    "    \n",
    "print('..... End ')\n"
   ]
  },
  {
   "cell_type": "code",
   "execution_count": null,
   "id": "fd7f4963",
   "metadata": {},
   "outputs": [],
   "source": []
  },
  {
   "cell_type": "markdown",
   "id": "6b62cc24",
   "metadata": {},
   "source": [
    "#### 2. Run time Error : \n",
    "\n",
    "- Interpreter read the code and it didb't found ANY SYNTAX error\n",
    "- Execution of code is there\n",
    "- If any error is found while executing it, then it displays the error and stops\n",
    " \n",
    "- something related to LOGICALLY"
   ]
  },
  {
   "cell_type": "code",
   "execution_count": 5,
   "id": "19fad38d",
   "metadata": {},
   "outputs": [
    {
     "name": "stdout",
     "output_type": "stream",
     "text": [
      "Start .....\n"
     ]
    },
    {
     "ename": "ZeroDivisionError",
     "evalue": "division by zero",
     "output_type": "error",
     "traceback": [
      "\u001b[1;31m---------------------------------------------------------------------------\u001b[0m",
      "\u001b[1;31mZeroDivisionError\u001b[0m                         Traceback (most recent call last)",
      "Cell \u001b[1;32mIn[5], line 7\u001b[0m\n\u001b[0;32m      4\u001b[0m a \u001b[38;5;241m=\u001b[39m \u001b[38;5;241m10\u001b[39m\n\u001b[0;32m      5\u001b[0m b \u001b[38;5;241m=\u001b[39m \u001b[38;5;241m0\u001b[39m\n\u001b[1;32m----> 7\u001b[0m \u001b[38;5;28mprint\u001b[39m(a \u001b[38;5;241m/\u001b[39m b)\n\u001b[0;32m     10\u001b[0m \u001b[38;5;28mprint\u001b[39m(\u001b[38;5;124m'\u001b[39m\u001b[38;5;124m..... End \u001b[39m\u001b[38;5;124m'\u001b[39m)\n",
      "\u001b[1;31mZeroDivisionError\u001b[0m: division by zero"
     ]
    }
   ],
   "source": [
    "print('Start .....')\n",
    "\n",
    "\n",
    "a = 10\n",
    "b = 0\n",
    "\n",
    "print(a / b)\n",
    "\n",
    "\n",
    "print('..... End ')\n"
   ]
  },
  {
   "cell_type": "code",
   "execution_count": 6,
   "id": "01e8c739",
   "metadata": {},
   "outputs": [
    {
     "name": "stdout",
     "output_type": "stream",
     "text": [
      "Start .....\n"
     ]
    },
    {
     "ename": "FileNotFoundError",
     "evalue": "[Errno 2] No such file or directory: 'Nitish.txt'",
     "output_type": "error",
     "traceback": [
      "\u001b[1;31m---------------------------------------------------------------------------\u001b[0m",
      "\u001b[1;31mFileNotFoundError\u001b[0m                         Traceback (most recent call last)",
      "Cell \u001b[1;32mIn[6], line 4\u001b[0m\n\u001b[0;32m      1\u001b[0m \u001b[38;5;28mprint\u001b[39m(\u001b[38;5;124m'\u001b[39m\u001b[38;5;124mStart .....\u001b[39m\u001b[38;5;124m'\u001b[39m)\n\u001b[1;32m----> 4\u001b[0m file \u001b[38;5;241m=\u001b[39m \u001b[38;5;28mopen\u001b[39m(\u001b[38;5;124m\"\u001b[39m\u001b[38;5;124mNitish.txt\u001b[39m\u001b[38;5;124m\"\u001b[39m, \u001b[38;5;124m\"\u001b[39m\u001b[38;5;124mr\u001b[39m\u001b[38;5;124m\"\u001b[39m)\n\u001b[0;32m      5\u001b[0m \u001b[38;5;28mprint\u001b[39m(file\u001b[38;5;241m.\u001b[39mread())\n\u001b[0;32m      7\u001b[0m file\u001b[38;5;241m.\u001b[39mclose()\n",
      "File \u001b[1;32mD:\\Programs\\Python\\anaconda\\Lib\\site-packages\\IPython\\core\\interactiveshell.py:286\u001b[0m, in \u001b[0;36m_modified_open\u001b[1;34m(file, *args, **kwargs)\u001b[0m\n\u001b[0;32m    279\u001b[0m \u001b[38;5;28;01mif\u001b[39;00m file \u001b[38;5;129;01min\u001b[39;00m {\u001b[38;5;241m0\u001b[39m, \u001b[38;5;241m1\u001b[39m, \u001b[38;5;241m2\u001b[39m}:\n\u001b[0;32m    280\u001b[0m     \u001b[38;5;28;01mraise\u001b[39;00m \u001b[38;5;167;01mValueError\u001b[39;00m(\n\u001b[0;32m    281\u001b[0m         \u001b[38;5;124mf\u001b[39m\u001b[38;5;124m\"\u001b[39m\u001b[38;5;124mIPython won\u001b[39m\u001b[38;5;124m'\u001b[39m\u001b[38;5;124mt let you open fd=\u001b[39m\u001b[38;5;132;01m{\u001b[39;00mfile\u001b[38;5;132;01m}\u001b[39;00m\u001b[38;5;124m by default \u001b[39m\u001b[38;5;124m\"\u001b[39m\n\u001b[0;32m    282\u001b[0m         \u001b[38;5;124m\"\u001b[39m\u001b[38;5;124mas it is likely to crash IPython. If you know what you are doing, \u001b[39m\u001b[38;5;124m\"\u001b[39m\n\u001b[0;32m    283\u001b[0m         \u001b[38;5;124m\"\u001b[39m\u001b[38;5;124myou can use builtins\u001b[39m\u001b[38;5;124m'\u001b[39m\u001b[38;5;124m open.\u001b[39m\u001b[38;5;124m\"\u001b[39m\n\u001b[0;32m    284\u001b[0m     )\n\u001b[1;32m--> 286\u001b[0m \u001b[38;5;28;01mreturn\u001b[39;00m io_open(file, \u001b[38;5;241m*\u001b[39margs, \u001b[38;5;241m*\u001b[39m\u001b[38;5;241m*\u001b[39mkwargs)\n",
      "\u001b[1;31mFileNotFoundError\u001b[0m: [Errno 2] No such file or directory: 'Nitish.txt'"
     ]
    }
   ],
   "source": [
    "print('Start .....')\n",
    "\n",
    "\n",
    "file = open(\"Nitish.txt\", \"r\")\n",
    "print(file.read())\n",
    "\n",
    "file.close()\n",
    "\n",
    "print('..... End ')\n"
   ]
  },
  {
   "cell_type": "code",
   "execution_count": null,
   "id": "96fc7276",
   "metadata": {},
   "outputs": [],
   "source": []
  },
  {
   "cell_type": "code",
   "execution_count": null,
   "id": "1a85465f",
   "metadata": {},
   "outputs": [],
   "source": []
  },
  {
   "cell_type": "markdown",
   "id": "e96ebe4f",
   "metadata": {},
   "source": [
    "**Syntax**\n",
    "\n",
    "try : \n",
    "    statement\n",
    "    statement\n",
    "    statement\n",
    "    \n",
    "except : \n",
    "    statement\n",
    "    statement\n",
    "    statement\n",
    "    \n",
    "finally : \n",
    "    statement\n",
    "    statement\n",
    "\n",
    "\n",
    "\n",
    "**TRY Block**\n",
    "\n",
    "- this block contains the code where there is a possibility of error\n",
    "- Once the error has been caught, then there is no further execution of that code\n",
    "\n",
    "**EXCEPT Block**\n",
    "- to catch the error\n",
    "- there can be more than 1 except blocks\n",
    "- a except block cannot exist without try\n",
    "\n",
    "**Finally Block**\n",
    "- Its alwasys executed, whether error has been found or not\n",
    "- Its Not Mandatory. A try and except block can exist without Try block"
   ]
  },
  {
   "cell_type": "code",
   "execution_count": null,
   "id": "0a35a9d4",
   "metadata": {},
   "outputs": [],
   "source": []
  },
  {
   "cell_type": "markdown",
   "id": "2cf32486",
   "metadata": {},
   "source": [
    "### Generic Try Catch\n",
    "\n",
    "-- here I don't know the error"
   ]
  },
  {
   "cell_type": "code",
   "execution_count": 25,
   "id": "5958a9e5",
   "metadata": {},
   "outputs": [
    {
     "name": "stdout",
     "output_type": "stream",
     "text": [
      "Division -->  0.5\n",
      "------------------------------------------------------------\n",
      "File Content :    delhi \n",
      "mumbai  \n",
      "chennai\n",
      "    pune   \n",
      "              ranchi\n",
      "\n",
      "------------------------------------------------------------\n",
      "mango\n",
      "------------------------------------------------------------\n",
      "............  THANK YOU .....................\n"
     ]
    }
   ],
   "source": [
    "# Calling the libraries\n",
    "import sys\n",
    "import os, time\n",
    "from math import sqrt\n",
    "\n",
    "a = 10 # int(input(\"Number 1 : \"))\n",
    "b = 20 # int(input(\"Number 2 : \"))\n",
    "\n",
    "try : \n",
    "    \n",
    "    # Division : \n",
    "    a = 10 # int(input(\"Number 1 : \"))\n",
    "    b = 20 # int(input(\"Number 2 : \"))\n",
    "    print( \"Division --> \", a / b )\n",
    "    print(\"--\" * 30 )\n",
    "    \n",
    "    # File Error .. \n",
    "    file = open(\"data.txt\", \"r\")\n",
    "    print(\"File Content : \", file.read())\n",
    "    file.close()\n",
    "    print(\"--\" * 30 )\n",
    "    \n",
    "    # Index Error\n",
    "    fruits = ['APPLE', 'mango', 'PINEAPPLE', 'CUSTARD APPLE', 'grapes', 'kiwi', 'cherry']\n",
    "    print(fruits[1])\n",
    "    print(\"--\" * 30 )\n",
    "        \n",
    "    \n",
    "except Exception as e: \n",
    "    print(f\"Error Found : {e}\")\n",
    "    \n",
    "finally : \n",
    "    print(\"............  THANK YOU .....................\")"
   ]
  },
  {
   "cell_type": "code",
   "execution_count": null,
   "id": "ca028340",
   "metadata": {},
   "outputs": [],
   "source": []
  },
  {
   "cell_type": "markdown",
   "id": "b517bcff",
   "metadata": {},
   "source": [
    "### Try Catch for specific Exception\n",
    "\n",
    "-- here I know the error"
   ]
  },
  {
   "cell_type": "code",
   "execution_count": 28,
   "id": "57eda554",
   "metadata": {},
   "outputs": [
    {
     "name": "stdout",
     "output_type": "stream",
     "text": [
      "Division -->  0.5\n",
      "------------------------------------------------------------\n",
      "No Such File in C:\\Users\\Nitish\\Desktop\\PP\\Python Batch, 26 Novembeer 23\\Day10, 13-01-24\\Exception Handling. Check HERE\n",
      "............  THANK YOU .....................\n"
     ]
    }
   ],
   "source": [
    "import os\n",
    "a = 10 # int(input(\"Number 1 : \"))\n",
    "b = 20 # int(input(\"Number 2 : \"))\n",
    "\n",
    "try : \n",
    "    \n",
    "    # Division : \n",
    "    a = 10 # int(input(\"Number 1 : \"))\n",
    "    b = 20 # int(input(\"Number 2 : \"))\n",
    "    print( \"Division --> \", a / b )\n",
    "    print(\"--\" * 30 )\n",
    "    \n",
    "    # File Error .. \n",
    "    file = open(\"nitish.txt\", \"r\")\n",
    "    print(\"File Content : \", file.read())\n",
    "    file.close()\n",
    "    print(\"--\" * 30 )\n",
    "    \n",
    "    # Index Error\n",
    "    fruits = ['APPLE', 'mango', 'PINEAPPLE', 'CUSTARD APPLE', 'grapes', 'kiwi', 'cherry']\n",
    "    print(fruits[1])\n",
    "    print(\"--\" * 30 )\n",
    "        \n",
    "\n",
    "except ZeroDivisionError : \n",
    "    print(\"You are writing Invalid Denominator. Try Again\")\n",
    "        \n",
    "except FileNotFoundError : \n",
    "    print(f\"No Such File in {os.getcwd()}. Check HERE\")\n",
    "\n",
    "    \n",
    "except Exception as e: \n",
    "    print(f\"Error Found : {e}\")\n",
    "    \n",
    "finally : \n",
    "    print(\"............  THANK YOU .....................\")"
   ]
  },
  {
   "cell_type": "code",
   "execution_count": null,
   "id": "a76f76cd",
   "metadata": {},
   "outputs": [],
   "source": []
  },
  {
   "cell_type": "code",
   "execution_count": 31,
   "id": "d5e3db53",
   "metadata": {},
   "outputs": [
    {
     "name": "stdout",
     "output_type": "stream",
     "text": [
      "Division -->  0.5\n",
      "------------------------------------------------------------\n",
      "No Such File in C:\\Users\\Nitish\\Desktop\\PP\\Python Batch, 26 Novembeer 23\\Day10, 13-01-24\\Exception Handling. Check HERE\n"
     ]
    }
   ],
   "source": [
    "## Check if except and finally can exist wihout try block\n",
    "\n",
    "import os\n",
    "a = 10 # int(input(\"Number 1 : \"))\n",
    "b = 20 # int(input(\"Number 2 : \"))\n",
    "\n",
    "try : \n",
    "    \n",
    "    # Division : \n",
    "    a = 10 # int(input(\"Number 1 : \"))\n",
    "    b = 20 # int(input(\"Number 2 : \"))\n",
    "    print( \"Division --> \", a / b )\n",
    "    print(\"--\" * 30 )\n",
    "    \n",
    "    # File Error .. \n",
    "    file = open(\"nitish.txt\", \"r\")\n",
    "    print(\"File Content : \", file.read())\n",
    "    file.close()\n",
    "    print(\"--\" * 30 )\n",
    "    \n",
    "    # Index Error\n",
    "    fruits = ['APPLE', 'mango', 'PINEAPPLE', 'CUSTARD APPLE', 'grapes', 'kiwi', 'cherry']\n",
    "    print(fruits[1])\n",
    "    print(\"--\" * 30 )\n",
    "        \n",
    "\n",
    "except ZeroDivisionError : \n",
    "    print(\"You are writing Invalid Denominator. Try Again\")\n",
    "        \n",
    "except FileNotFoundError : \n",
    "    print(f\"No Such File in {os.getcwd()}. Check HERE\")\n",
    "\n",
    "    \n",
    "except Exception as e: \n",
    "    print(f\"Error Found : {e}\")\n",
    "    \n",
    "finally : \n",
    "    print(\"............  THANK YOU .....................\")"
   ]
  },
  {
   "cell_type": "code",
   "execution_count": null,
   "id": "a265e150",
   "metadata": {},
   "outputs": [],
   "source": []
  },
  {
   "cell_type": "code",
   "execution_count": null,
   "id": "d7d76b88",
   "metadata": {},
   "outputs": [],
   "source": []
  },
  {
   "cell_type": "code",
   "execution_count": null,
   "id": "6752c494",
   "metadata": {},
   "outputs": [],
   "source": []
  }
 ],
 "metadata": {
  "kernelspec": {
   "display_name": "Python 3 (ipykernel)",
   "language": "python",
   "name": "python3"
  },
  "language_info": {
   "codemirror_mode": {
    "name": "ipython",
    "version": 3
   },
   "file_extension": ".py",
   "mimetype": "text/x-python",
   "name": "python",
   "nbconvert_exporter": "python",
   "pygments_lexer": "ipython3",
   "version": "3.11.5"
  }
 },
 "nbformat": 4,
 "nbformat_minor": 5
}
