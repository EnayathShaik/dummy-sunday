{
 "cells": [
  {
   "cell_type": "markdown",
   "id": "3ef7ab97",
   "metadata": {},
   "source": [
    "# File Handling\n",
    "\n",
    "\n",
    "- read, write to the file\n",
    "- read file from any folder (path)\n",
    "- write single and multiple lines\n",
    "\n",
    "####  Directory\n",
    "- create, delete, rename the folder\n",
    "- these activities can be done if file is closed..\n"
   ]
  },
  {
   "cell_type": "markdown",
   "id": "41cdfeef",
   "metadata": {},
   "source": [
    "Syntax : \n",
    "\n",
    "\n",
    "f = open(fileName, mode)\n",
    "f = open(path, mode)\n",
    "....\n",
    "....\n",
    "f.close()\n",
    "\n",
    "\n",
    "f -> any variable that contains info of the file...\n",
    "file, filehandler  < -- > x, y , myFile ....\n",
    "\n",
    "mode - r, w, a\n",
    "rt, wt, at -> text files..\n",
    "rb, wb, ab -> binary files.. images, word  (Don't recommend this, as we have good packages to take care of such files...)\n"
   ]
  },
  {
   "cell_type": "code",
   "execution_count": 2,
   "id": "1e9caad4",
   "metadata": {},
   "outputs": [
    {
     "data": {
      "text/plain": [
       "'hello'"
      ]
     },
     "execution_count": 2,
     "metadata": {},
     "output_type": "execute_result"
    }
   ],
   "source": [
    "def fun() : \n",
    "    return \"hello\"\n",
    "\n",
    "fun()"
   ]
  },
  {
   "cell_type": "code",
   "execution_count": 3,
   "id": "aa6f4ecc",
   "metadata": {},
   "outputs": [
    {
     "data": {
      "text/plain": [
       "function"
      ]
     },
     "execution_count": 3,
     "metadata": {},
     "output_type": "execute_result"
    }
   ],
   "source": [
    "type(fun)"
   ]
  },
  {
   "cell_type": "code",
   "execution_count": 4,
   "id": "677f6fad",
   "metadata": {},
   "outputs": [
    {
     "data": {
      "text/plain": [
       "int"
      ]
     },
     "execution_count": 4,
     "metadata": {},
     "output_type": "execute_result"
    }
   ],
   "source": [
    "x = 100\n",
    "type(x)"
   ]
  },
  {
   "cell_type": "code",
   "execution_count": null,
   "id": "089fcc3a",
   "metadata": {},
   "outputs": [],
   "source": []
  },
  {
   "cell_type": "code",
   "execution_count": null,
   "id": "b6c59b6a",
   "metadata": {},
   "outputs": [],
   "source": []
  },
  {
   "cell_type": "markdown",
   "id": "ad7870ce",
   "metadata": {},
   "source": [
    "### Notes\n",
    "\n",
    "\n",
    "**read mode**\n",
    "- read file is possible, if file exists\n",
    "- When file is opened in READ mode, it always start from 0\n",
    "- file.read() -> all the content is string format\n",
    "\n",
    "**write mode**\n",
    "- write the file means, file will be created if it does not exist\n",
    "- if you open the file in write mode, then data is overwritten\n",
    "- When file is opened in WRITE mode, it always start from 0\n",
    "\n",
    "**append mode**\n",
    "- append the file means, file will be created if it does not exist\n",
    "- if you open the file in append mode, then data is NOT overwritten\n",
    "- When file is opened in APPEND mode, it start from the END of the content present\n",
    "\n"
   ]
  },
  {
   "cell_type": "markdown",
   "id": "c98607e3",
   "metadata": {},
   "source": [
    "### Read the file"
   ]
  },
  {
   "cell_type": "code",
   "execution_count": 12,
   "id": "03e25df5",
   "metadata": {},
   "outputs": [
    {
     "name": "stdout",
     "output_type": "stream",
     "text": [
      "Lion\n",
      "Zebra\n",
      "Rabbit\n",
      "\n"
     ]
    }
   ],
   "source": [
    "f = open(\"data.txt\", \"rt\")\n",
    "content = f.read()\n",
    "f.close()\n",
    "\n",
    "print(content)"
   ]
  },
  {
   "cell_type": "code",
   "execution_count": null,
   "id": "2062bec8",
   "metadata": {},
   "outputs": [],
   "source": []
  },
  {
   "cell_type": "markdown",
   "id": "6a0e7f8e",
   "metadata": {},
   "source": [
    "### Write the file"
   ]
  },
  {
   "cell_type": "code",
   "execution_count": 9,
   "id": "176d81aa",
   "metadata": {},
   "outputs": [],
   "source": [
    "f = open(\"data.txt\", \"wt\")\n",
    "\n",
    "f.write(\"Delhi\")\n",
    "f.write(\"\\n\")\n",
    "f.write(\"Mumbai\")\n",
    "f.write(\"\\n\")\n",
    "f.write(\"Chennai\")\n",
    "f.write(\"\\n\")\n",
    "\n",
    "f.close()\n"
   ]
  },
  {
   "cell_type": "code",
   "execution_count": null,
   "id": "c53ec43c",
   "metadata": {},
   "outputs": [],
   "source": []
  },
  {
   "cell_type": "code",
   "execution_count": 11,
   "id": "643a8ada",
   "metadata": {},
   "outputs": [],
   "source": [
    "f = open(\"data.txt\", \"wt\")\n",
    "\n",
    "f.write(\"Lion\")\n",
    "f.write(\"\\n\")\n",
    "f.write(\"Zebra\")\n",
    "f.write(\"\\n\")\n",
    "f.write(\"Rabbit\")\n",
    "f.write(\"\\n\")\n",
    "\n",
    "f.close()\n"
   ]
  },
  {
   "cell_type": "code",
   "execution_count": null,
   "id": "386cc6af",
   "metadata": {},
   "outputs": [],
   "source": []
  },
  {
   "cell_type": "markdown",
   "id": "60465c2f",
   "metadata": {},
   "source": [
    "### Cursor\n",
    "\n",
    "- f.tell() -> tells about the current position of the cursor\n",
    "- f.seek() -> change the position of the cursor .. make the cursor to shift to the STARt or to the END \n",
    "\n",
    "https://www.geeksforgeeks.org/python-seek-function/"
   ]
  },
  {
   "cell_type": "code",
   "execution_count": 13,
   "id": "b62904bf",
   "metadata": {},
   "outputs": [
    {
     "name": "stdout",
     "output_type": "stream",
     "text": [
      "Position of Cursor -> 0\n",
      "Position of Cursor -> 24\n"
     ]
    }
   ],
   "source": [
    "f = open(\"data.txt\", \"wt\")\n",
    "\n",
    "print(f\"Position of Cursor -> {f.tell()}\")\n",
    "\n",
    "f.write(\"Delhi\")\n",
    "f.write(\"\\n\")\n",
    "f.write(\"Mumbai\")\n",
    "f.write(\"\\n\")\n",
    "f.write(\"Chennai\")\n",
    "f.write(\"\\n\")\n",
    "\n",
    "print(f\"Position of Cursor -> {f.tell()}\")\n",
    "\n",
    "f.close()\n"
   ]
  },
  {
   "cell_type": "code",
   "execution_count": null,
   "id": "09968efd",
   "metadata": {},
   "outputs": [],
   "source": []
  },
  {
   "cell_type": "code",
   "execution_count": 15,
   "id": "cd643b4c",
   "metadata": {},
   "outputs": [
    {
     "name": "stdout",
     "output_type": "stream",
     "text": [
      "Position of Cursor -> 0\n",
      "Position of Cursor -> 24\n",
      "Delhi\n",
      "Mumbai\n",
      "Chennai\n",
      "\n",
      "<class 'str'>\n"
     ]
    }
   ],
   "source": [
    "f = open(\"data.txt\", \"rt\")\n",
    "print(f\"Position of Cursor -> {f.tell()}\")\n",
    "\n",
    "content = f.read()\n",
    "print(f\"Position of Cursor -> {f.tell()}\")\n",
    "\n",
    "f.close()\n",
    "\n",
    "print(content)\n",
    "print( type(content) )"
   ]
  },
  {
   "cell_type": "code",
   "execution_count": null,
   "id": "c3b8b5be",
   "metadata": {},
   "outputs": [],
   "source": []
  },
  {
   "cell_type": "markdown",
   "id": "b25adfd3",
   "metadata": {},
   "source": [
    "### Append the file"
   ]
  },
  {
   "cell_type": "code",
   "execution_count": 16,
   "id": "7930d972",
   "metadata": {},
   "outputs": [
    {
     "name": "stdout",
     "output_type": "stream",
     "text": [
      "Position of Cursor -> 0\n",
      "Position of Cursor -> 24\n"
     ]
    }
   ],
   "source": [
    "f = open(\"myFile.txt\", \"at\")\n",
    "\n",
    "print(f\"Position of Cursor -> {f.tell()}\")\n",
    "\n",
    "f.write(\"Delhi\")\n",
    "f.write(\"\\n\")\n",
    "f.write(\"Mumbai\")\n",
    "f.write(\"\\n\")\n",
    "f.write(\"Chennai\")\n",
    "f.write(\"\\n\")\n",
    "\n",
    "print(f\"Position of Cursor -> {f.tell()}\")\n",
    "\n",
    "f.close()\n"
   ]
  },
  {
   "cell_type": "code",
   "execution_count": null,
   "id": "18388f99",
   "metadata": {},
   "outputs": [],
   "source": []
  },
  {
   "cell_type": "code",
   "execution_count": 17,
   "id": "8c53acf0",
   "metadata": {},
   "outputs": [
    {
     "name": "stdout",
     "output_type": "stream",
     "text": [
      "Position of Cursor -> 24\n",
      "Position of Cursor -> 45\n"
     ]
    }
   ],
   "source": [
    "f = open(\"myFile.txt\", \"at\")\n",
    "\n",
    "print(f\"Position of Cursor -> {f.tell()}\")\n",
    "\n",
    "\n",
    "f.write(\"Lion\")\n",
    "f.write(\"\\n\")\n",
    "f.write(\"Zebra\")\n",
    "f.write(\"\\n\")\n",
    "f.write(\"Rabbit\")\n",
    "f.write(\"\\n\")\n",
    "\n",
    "print(f\"Position of Cursor -> {f.tell()}\")\n",
    "\n",
    "\n",
    "f.close()\n"
   ]
  },
  {
   "cell_type": "code",
   "execution_count": null,
   "id": "9368b655",
   "metadata": {},
   "outputs": [],
   "source": []
  },
  {
   "cell_type": "markdown",
   "id": "577af7cd",
   "metadata": {},
   "source": [
    "### Write the User Content"
   ]
  },
  {
   "cell_type": "code",
   "execution_count": 20,
   "id": "9848bcc8",
   "metadata": {},
   "outputs": [
    {
     "name": "stdout",
     "output_type": "stream",
     "text": [
      "Write the information : ghvfdjkwdbghw\n"
     ]
    }
   ],
   "source": [
    "f = open(\"data.txt\", \"wt\")\n",
    "\n",
    "content = input(\"Write the information : \")\n",
    "f.write(content)\n",
    "\n",
    "f.close()\n"
   ]
  },
  {
   "cell_type": "code",
   "execution_count": null,
   "id": "84acabf4",
   "metadata": {},
   "outputs": [],
   "source": [
    "# take the input first in the form of the string.\n",
    "# by using loops"
   ]
  },
  {
   "cell_type": "code",
   "execution_count": 22,
   "id": "1b17f78c",
   "metadata": {},
   "outputs": [
    {
     "name": "stdout",
     "output_type": "stream",
     "text": [
      " Write @@ to stop... \n",
      "Write the information :   delhi \n",
      "Write the information : mumbai  \n",
      "Write the information : chennai\n",
      "Write the information :     pune   \n",
      "Write the information :               ranchi\n",
      "Write the information :   @@      \n"
     ]
    }
   ],
   "source": [
    "f = open(\"data.txt\", \"wt\")\n",
    "\n",
    "print(\" Write @@ to stop... \")\n",
    "\n",
    "\n",
    "while True : \n",
    "    content = input(\"Write the information : \")\n",
    "    \n",
    "    if content.lower().strip() == \"@@\"  :\n",
    "        break\n",
    "    \n",
    "    f.write(content)\n",
    "    f.write(\"\\n\")\n",
    "    \n",
    "\n",
    "f.close()\n"
   ]
  },
  {
   "cell_type": "code",
   "execution_count": null,
   "id": "47411352",
   "metadata": {},
   "outputs": [],
   "source": []
  },
  {
   "cell_type": "code",
   "execution_count": null,
   "id": "290afbef",
   "metadata": {},
   "outputs": [],
   "source": []
  },
  {
   "cell_type": "markdown",
   "id": "05fc3531",
   "metadata": {},
   "source": [
    "### Read the files in different ways"
   ]
  },
  {
   "cell_type": "code",
   "execution_count": 25,
   "id": "ee4f2527",
   "metadata": {},
   "outputs": [
    {
     "name": "stdout",
     "output_type": "stream",
     "text": [
      "<class 'str'>\n",
      "----------------------------------------\n",
      "lion\n",
      "tiger\n",
      "zebra\n",
      "rabbit\n",
      "monkey\n",
      "\n"
     ]
    }
   ],
   "source": [
    "## read() \n",
    "# -> it will read the entire content from the file from start till end\n",
    "# -> it will return STRING\n",
    "\n",
    "f1 = open(\"animals.txt\", \"r\")\n",
    "\n",
    "content = f1.read()\n",
    "print(type(content))\n",
    "print(\"--\" * 20)\n",
    "print(content)\n",
    "\n",
    "\n",
    "f1.close()\n",
    "\n"
   ]
  },
  {
   "cell_type": "code",
   "execution_count": 27,
   "id": "cf5d65ae",
   "metadata": {},
   "outputs": [
    {
     "name": "stdout",
     "output_type": "stream",
     "text": [
      "<class 'str'>\n",
      "----------------------------------------\n",
      "lion\n",
      "\n"
     ]
    }
   ],
   "source": [
    "## readline() \n",
    "# -> it will read ONLY FIRST LINE from the file\n",
    "# -> it will return STRING\n",
    "\n",
    "f2 = open(\"animals.txt\", \"r\")\n",
    "\n",
    "content = f2.readline()\n",
    "print(type(content))\n",
    "print(\"--\" * 20)\n",
    "print(content)\n",
    "\n",
    "\n",
    "f2.close()\n",
    "\n"
   ]
  },
  {
   "cell_type": "code",
   "execution_count": 28,
   "id": "1a4542f9",
   "metadata": {},
   "outputs": [
    {
     "name": "stdout",
     "output_type": "stream",
     "text": [
      "<class 'list'>\n",
      "----------------------------------------\n",
      "['lion\\n', 'tiger\\n', 'zebra\\n', 'rabbit\\n', 'monkey\\n']\n"
     ]
    }
   ],
   "source": [
    "## readlines() \n",
    "# -> it will read entire content from the file and split the string on the basis of \\n as seperation\n",
    "# -> it will return LIST\n",
    "\n",
    "f3 = open(\"animals.txt\", \"r\")\n",
    "\n",
    "content = f3.readlines()\n",
    "print(type(content))\n",
    "print(\"--\" * 20)\n",
    "print(content)\n",
    "\n",
    "\n",
    "f3.close()\n",
    "\n"
   ]
  },
  {
   "cell_type": "code",
   "execution_count": null,
   "id": "61170d2f",
   "metadata": {},
   "outputs": [],
   "source": []
  },
  {
   "cell_type": "code",
   "execution_count": null,
   "id": "8d0a37d4",
   "metadata": {},
   "outputs": [],
   "source": []
  },
  {
   "cell_type": "markdown",
   "id": "4111b8ec",
   "metadata": {},
   "source": [
    "#  Directory\n",
    "- create, delete, rename the folder\n",
    "- these activities can be done if file is closed..\n",
    "- Here OS packages helps to solve problems\n"
   ]
  },
  {
   "cell_type": "code",
   "execution_count": null,
   "id": "34d3d096",
   "metadata": {},
   "outputs": [],
   "source": []
  },
  {
   "cell_type": "code",
   "execution_count": 35,
   "id": "0f87ad0c",
   "metadata": {},
   "outputs": [
    {
     "name": "stdout",
     "output_type": "stream",
     "text": [
      "lion\n",
      "tiger\n",
      "zebra\n",
      "rabbit\n",
      "monkey\n",
      "\n"
     ]
    }
   ],
   "source": [
    "\n",
    "# path = \"C:\\Users\\Nitish\\Documents\\animals.txt\"  # error\n",
    "# path = \"C:\\\\Users\\\\Nitish\\\\Documents\\\\animals.txt\"\n",
    "# path = \"C:/Users/Nitish/Documents/animals.txt\"\n",
    "path = r\"C:\\Users\\Nitish\\Documents\\animals.txt\" \n",
    "\n",
    "f = open(path, \"rt\")\n",
    "content = f.read()\n",
    "f.close()\n",
    "\n",
    "print(content)"
   ]
  },
  {
   "cell_type": "code",
   "execution_count": 40,
   "id": "880a76ba",
   "metadata": {},
   "outputs": [
    {
     "name": "stdout",
     "output_type": "stream",
     "text": [
      "C:\\Users\\Nitish\\Desktop\\PP\\Python Batch, 26 Novembeer 23\\Day10, 13-01-24\\File Handling\n"
     ]
    }
   ],
   "source": [
    "# 1. Check the folder...\n",
    "# getcwd - get current working directory\n",
    "\n",
    "import os\n",
    "\n",
    "currentFolder = os.getcwd()\n",
    "print(currentFolder)\n"
   ]
  },
  {
   "cell_type": "code",
   "execution_count": 39,
   "id": "964688b9",
   "metadata": {},
   "outputs": [],
   "source": [
    "# dir(os)"
   ]
  },
  {
   "cell_type": "code",
   "execution_count": 41,
   "id": "8c67acb9",
   "metadata": {},
   "outputs": [],
   "source": [
    "# 2. Create the folder...\n",
    "# mkdir - create the folder\n",
    "\n",
    "import os\n",
    "\n",
    "os.mkdir(\"Delhi\")\n"
   ]
  },
  {
   "cell_type": "code",
   "execution_count": 42,
   "id": "9b250f79",
   "metadata": {},
   "outputs": [],
   "source": [
    "# 3. delete the folder...\n",
    "# rmdir - delete the folder\n",
    "\n",
    "import os\n",
    "\n",
    "os.rmdir(\"Delhi\")\n"
   ]
  },
  {
   "cell_type": "code",
   "execution_count": 43,
   "id": "0d6aa5fc",
   "metadata": {},
   "outputs": [],
   "source": [
    "# 4. rename the folder...\n",
    "# rename - rename the folder\n",
    "\n",
    "import os\n",
    "import time\n",
    "\n",
    "os.mkdir(\"Delhi\")\n",
    "time.sleep(5)\n",
    "\n",
    "os.rename(\"Delhi\", \"Mumbai\")\n",
    "time.sleep(5)\n",
    "\n",
    "os.rmdir(\"Mumbai\")\n",
    "time.sleep(5)\n",
    "\n"
   ]
  },
  {
   "cell_type": "code",
   "execution_count": null,
   "id": "35f420bd",
   "metadata": {},
   "outputs": [],
   "source": []
  },
  {
   "cell_type": "code",
   "execution_count": null,
   "id": "86b0ad4a",
   "metadata": {},
   "outputs": [],
   "source": [
    "#  5. read the file from different folder"
   ]
  },
  {
   "cell_type": "code",
   "execution_count": 52,
   "id": "82b9bfda",
   "metadata": {},
   "outputs": [
    {
     "name": "stdout",
     "output_type": "stream",
     "text": [
      "C:\\Users\\Nitish\\Desktop\\PP\\Python Batch, 26 Novembeer 23\\Day10, 13-01-24\\File Handling\n",
      "C:\\Users\\Nitish\\Desktop\\PP\\Python Batch, 26 Novembeer 23\\Day10, 13-01-24\\File Handling\\MyFolder\\animals.txt\n",
      "lion\n",
      "tiger\n",
      "zebra\n",
      "rabbit\n",
      "monkey\n",
      "\n"
     ]
    }
   ],
   "source": [
    "folderName = \"MyFolder\"\n",
    "fileName = \"animals.txt\"\n",
    "\n",
    "baseFolder = os.getcwd()\n",
    "print(baseFolder)\n",
    "\n",
    "# path = baseFolder + \"\\\\\" + folderName + \"\\\\\" + fileName\n",
    "# path = r\"C:\\Users\\Nitish\\Desktop\\PP\\Python Batch, 26 Novembeer 23\\Day10, 13-01-24\\File Handling\\MyFolder\\animals.txt\"\n",
    "\n",
    "path = os.path.join( baseFolder, folderName, fileName )   # baseFolder + \"\\\\\" + folderName + \"\\\\\" + fileName\n",
    "\n",
    "print(path)\n",
    "\n",
    "f = open(path, 'r')\n",
    "print(f.read())\n",
    "f.close()\n"
   ]
  },
  {
   "cell_type": "code",
   "execution_count": null,
   "id": "e5319e05",
   "metadata": {},
   "outputs": [],
   "source": []
  },
  {
   "cell_type": "code",
   "execution_count": 55,
   "id": "5c52332c",
   "metadata": {},
   "outputs": [
    {
     "name": "stdout",
     "output_type": "stream",
     "text": [
      "C:\\Users\\Nitish\\Desktop\\PP\\Python Batch, 26 Novembeer 23\\Day10, 13-01-24\\File Handling\n"
     ]
    }
   ],
   "source": [
    "# Create file and save into new folder\n",
    "\n",
    "\n",
    "baseFolder = os.getcwd()\n",
    "print(baseFolder)\n",
    "\n",
    "folderName = \"PY Folder\"\n",
    "os.mkdir(folderName)\n",
    "fName = \"python.txt\"\n",
    "\n",
    "pathName = os.path.join(baseFolder, folderName, fName)\n",
    "\n",
    "file = open(pathName, \"w\")\n",
    "message = \"\"\"\n",
    "Python is a high-level, general-purpose programming language. Its design philosophy emphasizes code readability with the use of significant indentation. Python is dynamically typed and garbage-collected. It supports multiple programming paradigms, including structured, object-oriented and functional programming.\n",
    "\"\"\"\n",
    "\n",
    "file.write(message)\n",
    "file.close()\n",
    "\n",
    "\n",
    "\n",
    "\n",
    "\n"
   ]
  },
  {
   "cell_type": "code",
   "execution_count": null,
   "id": "b3af393a",
   "metadata": {},
   "outputs": [],
   "source": []
  },
  {
   "cell_type": "code",
   "execution_count": null,
   "id": "8559cf07",
   "metadata": {},
   "outputs": [],
   "source": []
  },
  {
   "cell_type": "code",
   "execution_count": 56,
   "id": "53497afa",
   "metadata": {},
   "outputs": [],
   "source": [
    "# IF folder or File exists\n",
    "# check out all the folders and files\n",
    "\n"
   ]
  },
  {
   "cell_type": "code",
   "execution_count": 59,
   "id": "0b7b06c2",
   "metadata": {},
   "outputs": [
    {
     "name": "stdout",
     "output_type": "stream",
     "text": [
      "C:\\Users\\Nitish\\Desktop\\PP\\Python Batch, 26 Novembeer 23\\Day10, 13-01-24\\File Handling\n",
      "True\n",
      "True\n"
     ]
    }
   ],
   "source": [
    "baseFolder = os.getcwd()\n",
    "print(baseFolder)\n",
    "\n",
    "print( os.path.isdir(\"Py Folder\") )\n",
    "print( os.path.isfile(\"abc.txt\") )\n"
   ]
  },
  {
   "cell_type": "code",
   "execution_count": 60,
   "id": "ea25adf6",
   "metadata": {},
   "outputs": [
    {
     "name": "stdout",
     "output_type": "stream",
     "text": [
      "C:\\Users\\Nitish\\Desktop\\PP\\Python Batch, 26 Novembeer 23\\Day10, 13-01-24\\File Handling\n"
     ]
    },
    {
     "data": {
      "text/plain": [
       "['.ipynb_checkpoints',\n",
       " 'abc.txt',\n",
       " 'animals.txt',\n",
       " 'data.txt',\n",
       " 'File Handling.ipynb',\n",
       " 'myFile.txt',\n",
       " 'MyFolder',\n",
       " 'New Microsoft Excel Worksheet.xlsx',\n",
       " 'PY Folder']"
      ]
     },
     "execution_count": 60,
     "metadata": {},
     "output_type": "execute_result"
    }
   ],
   "source": [
    "baseFolder = os.getcwd()\n",
    "print(baseFolder)\n",
    "\n",
    "os.listdir( baseFolder )"
   ]
  },
  {
   "cell_type": "code",
   "execution_count": null,
   "id": "52d2c43a",
   "metadata": {},
   "outputs": [],
   "source": []
  },
  {
   "cell_type": "code",
   "execution_count": null,
   "id": "e5f8fd09",
   "metadata": {},
   "outputs": [],
   "source": []
  },
  {
   "cell_type": "code",
   "execution_count": null,
   "id": "98d7f8db",
   "metadata": {},
   "outputs": [],
   "source": []
  },
  {
   "cell_type": "code",
   "execution_count": null,
   "id": "11fa1883",
   "metadata": {},
   "outputs": [],
   "source": []
  }
 ],
 "metadata": {
  "kernelspec": {
   "display_name": "Python 3 (ipykernel)",
   "language": "python",
   "name": "python3"
  },
  "language_info": {
   "codemirror_mode": {
    "name": "ipython",
    "version": 3
   },
   "file_extension": ".py",
   "mimetype": "text/x-python",
   "name": "python",
   "nbconvert_exporter": "python",
   "pygments_lexer": "ipython3",
   "version": "3.11.5"
  }
 },
 "nbformat": 4,
 "nbformat_minor": 5
}
