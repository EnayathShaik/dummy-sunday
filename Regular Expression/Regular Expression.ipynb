{
 "cells": [
  {
   "cell_type": "markdown",
   "id": "0be5aa7e",
   "metadata": {},
   "source": [
    "# Regular Expression\n",
    "\n",
    "- use of regex to catch the patterns\n",
    "- import re package\n",
    "- SPECIFIC ACTIVITIES -> find single or **multiple** , substitue a pattern\n",
    "\n",
    "\n",
    "3 steps : \n",
    "\n",
    "identify the pattern -> sequence characters\n",
    "repitition the pattern -> quantifiers\n",
    "excpeitons the pattern -> special characters\n",
    "\n",
    "\n",
    "They key to find the pattern is to TEST on only 1 REUIRED WORD\n"
   ]
  },
  {
   "cell_type": "code",
   "execution_count": null,
   "id": "698c7940",
   "metadata": {},
   "outputs": [],
   "source": []
  },
  {
   "cell_type": "markdown",
   "id": "7652928e",
   "metadata": {},
   "source": [
    "**Findall**\n",
    "\n",
    "- retrieve all the patterns from the string\n",
    "- it returns in the form of list \n",
    "\n",
    "**syntax:**\n",
    "\n",
    "import re\n",
    "\n",
    "re.findall(pattern, stringName)\n"
   ]
  },
  {
   "cell_type": "code",
   "execution_count": null,
   "id": "19375ffc",
   "metadata": {},
   "outputs": [],
   "source": []
  },
  {
   "cell_type": "code",
   "execution_count": 12,
   "id": "a5217bac",
   "metadata": {},
   "outputs": [
    {
     "name": "stdout",
     "output_type": "stream",
     "text": [
      "['upi', 'p', 'polo', 'python', 'pizza', 'taping', 'cope', 'uttar_pradesh2024']\n",
      "p\n",
      "polo\n",
      "python\n",
      "pizza\n"
     ]
    }
   ],
   "source": [
    "# find out the patterns that start with \"p\"\n",
    "\n",
    "message = \"upi p polo python pizza taping cope uttar_pradesh2024\"\n",
    "\n",
    "myList = message.split(\" \")\n",
    "print(myList)\n",
    "\n",
    "for w in myList : \n",
    "    if w[0] == \"p\" :\n",
    "        print(w)\n",
    "\n"
   ]
  },
  {
   "cell_type": "code",
   "execution_count": 10,
   "id": "2ad9cd51",
   "metadata": {},
   "outputs": [
    {
     "name": "stdout",
     "output_type": "stream",
     "text": [
      "['upi', 'p', 'polo', 'python', 'pizza', 'taping', 'cope', 'uttar_pradesh2024']\n",
      "upi 1\n",
      "Pattern ->  pi\n",
      "\n",
      "p 0\n",
      "Pattern ->  p\n",
      "\n",
      "polo 0\n",
      "Pattern ->  polo\n",
      "\n",
      "python 0\n",
      "Pattern ->  python\n",
      "\n",
      "pizza 0\n",
      "Pattern ->  pizza\n",
      "\n",
      "taping 2\n",
      "Pattern ->  ping\n",
      "\n",
      "cope 2\n",
      "Pattern ->  pe\n",
      "\n",
      "uttar_pradesh2024 6\n",
      "Pattern ->  pradesh2024\n",
      "\n"
     ]
    }
   ],
   "source": [
    "# find out the patterns that start with \"p\"\n",
    "\n",
    "message = \"upi p polo python pizza taping cope uttar_pradesh2024\"\n",
    "\n",
    "myList = message.split(\" \")\n",
    "print(myList)\n",
    "\n",
    "for w in myList : \n",
    "    if \"p\" in w : \n",
    "        pos = w.index(\"p\")\n",
    "        print(w, pos)\n",
    "        print(f'Pattern -> ', w[pos : ])\n",
    "        print()\n",
    "\n"
   ]
  },
  {
   "cell_type": "code",
   "execution_count": 13,
   "id": "3263166b",
   "metadata": {},
   "outputs": [
    {
     "name": "stdout",
     "output_type": "stream",
     "text": [
      "['p', 'p', 'p', 'p', 'p', 'p', 'p', 'p']\n"
     ]
    }
   ],
   "source": [
    "# find out the patterns that start with \"p\"\n",
    "import re\n",
    "\n",
    "message = \"upi p polo python pizza taping cope uttar_pradesh2024\"\n",
    "\n",
    "res = re.findall( r\"p\" , message )\n",
    "print(res)\n"
   ]
  },
  {
   "cell_type": "code",
   "execution_count": null,
   "id": "41022f49",
   "metadata": {},
   "outputs": [],
   "source": [
    "upi 1\n",
    "Pattern ->  pi\n",
    "\n",
    "p 0\n",
    "Pattern ->  p\n",
    "\n",
    "polo 0\n",
    "Pattern ->  polo\n",
    "\n",
    "python 0\n",
    "Pattern ->  python\n",
    "\n",
    "pizza 0\n",
    "Pattern ->  pizza\n",
    "\n",
    "taping 2\n",
    "Pattern ->  ping\n",
    "\n",
    "cope 2\n",
    "Pattern ->  pe\n",
    "\n",
    "uttar_pradesh2024 6\n",
    "Pattern ->  pradesh2024"
   ]
  },
  {
   "cell_type": "code",
   "execution_count": 16,
   "id": "5a24f46a",
   "metadata": {},
   "outputs": [
    {
     "name": "stdout",
     "output_type": "stream",
     "text": [
      "['pi', 'po', 'py', 'pi', 'pi', 'pe', 'pr']\n",
      "['pol', 'pyt', 'piz', 'pin', 'pra']\n",
      "['polo', 'pyth', 'pizz', 'ping', 'prad']\n",
      "['pytho', 'pizza', 'prade']\n"
     ]
    }
   ],
   "source": [
    "# find out the patterns that start with \"p\"\n",
    "import re\n",
    "\n",
    "message = \"upi p polo python pizza taping cope uttar_pradesh2024\"\n",
    "\n",
    "res = re.findall( r\"p\\w\" , message )\n",
    "print(res)\n",
    "\n",
    "res = re.findall( r\"p\\w\\w\" , message )  # p _ _ # Exact 3 length pattern that start with 'p'\n",
    "print(res)\n",
    "\n",
    "\n",
    "res = re.findall( r\"p\\w\\w\\w\" , message ) # P _ _ _  # Exact 4 length pattern that start with 'p'\n",
    "print(res)\n",
    "\n",
    "res = re.findall( r\"p\\w\\w\\w\\w\" , message ) # p _ _ _ _ # Exact 5 length pattern that start with 'p'\n",
    "print(res)\n",
    "\n",
    "# pizza"
   ]
  },
  {
   "cell_type": "code",
   "execution_count": null,
   "id": "901ddbd1",
   "metadata": {},
   "outputs": [],
   "source": []
  },
  {
   "cell_type": "code",
   "execution_count": 26,
   "id": "2d77b846",
   "metadata": {},
   "outputs": [
    {
     "name": "stdout",
     "output_type": "stream",
     "text": [
      "['polo', 'pyth', 'pizz', 'tapi', 'cope', 'utta', 'r_pr', 'ades', 'h202']\n",
      "['polo', 'cope']\n"
     ]
    }
   ],
   "source": [
    "# find out the patterns that are exactly 4 length\n",
    "import re\n",
    "message = \"upi p polo python pizza taping cope uttar_pradesh2024\"\n",
    "res = re.findall( \"\\w\\w\\w\\w\" , message)\n",
    "print( res )\n",
    "\n",
    "# find out the patterns that are exactly 4 length and surrounded by spaces...\n",
    "import re\n",
    "message = \"upi p polo python pizza taping cope uttar_pradesh2024\"\n",
    "res = re.findall( r\"\\b\\w\\w\\w\\w\\b\" , message)\n",
    "print( res )\n"
   ]
  },
  {
   "cell_type": "code",
   "execution_count": 32,
   "id": "eee559aa",
   "metadata": {},
   "outputs": [
    {
     "name": "stdout",
     "output_type": "stream",
     "text": [
      "['polo', 'python', 'pizza', 'ping', 'pradesh2024']\n"
     ]
    }
   ],
   "source": [
    "# find out the patterns that start with 'p' and are minimum 3 to above .. length\n",
    "import re\n",
    "message = \"upi p polo python pizza taping cope uttar_pradesh2024\"\n",
    "# res = re.findall( r\"p\\w\\w\" , message) # p _ _\n",
    "# print( res )\n",
    "\n",
    "res = re.findall( r\"p\\w{2,}\" , message) # p _ _\n",
    "print( res )\n",
    "\n"
   ]
  },
  {
   "cell_type": "code",
   "execution_count": 38,
   "id": "30dc184e",
   "metadata": {},
   "outputs": [
    {
     "name": "stdout",
     "output_type": "stream",
     "text": [
      "['pi', 'p', 'polo', 'pytho', 'pizza', 'ping', 'pe', 'prade']\n",
      "['p', 'polo', 'pizza']\n"
     ]
    }
   ],
   "source": [
    "# find out the patterns that start with 'p' and are minimum 0 to maximum 5 length\n",
    "import re\n",
    "message = \"upi p polo python pizza taping cope uttar_pradesh2024\"\n",
    "# res = re.findall( r\"p\\w\\w\" , message) # p _ _ \n",
    "# print( res )\n",
    "\n",
    "res = re.findall( r\"p\\w{,4}\" , message) # p _ _ _ _   # PATTERN\n",
    "print( res )\n",
    "\n",
    "res = re.findall( r\"\\bp\\w{,4}\\b\" , message) # p _ _ _ _     # WORD\n",
    "print( res )\n"
   ]
  },
  {
   "cell_type": "code",
   "execution_count": 34,
   "id": "540d7a14",
   "metadata": {},
   "outputs": [
    {
     "name": "stdout",
     "output_type": "stream",
     "text": [
      "['polo', 'cope']\n"
     ]
    }
   ],
   "source": [
    "# find out the patterns that are exactly 4 length and surrounded by spaces...\n",
    "import re\n",
    "message = \"upi p polo python pizza taping cope uttar_pradesh2024\"\n",
    "res = re.findall( r\"\\b\\w{4}\\b\" , message) # - - - -\n",
    "print( res )\n"
   ]
  },
  {
   "cell_type": "code",
   "execution_count": 36,
   "id": "0af9edcc",
   "metadata": {},
   "outputs": [
    {
     "name": "stdout",
     "output_type": "stream",
     "text": [
      "['polo', 'python', 'pizza', 'ping', 'prades']\n",
      "['polo', 'python', 'pizza']\n"
     ]
    }
   ],
   "source": [
    "# find out the patterns that start with 'p' and are minimum 2 to maximum 5 length\n",
    "import re\n",
    "message = \"upi p polo python pizza taping cope uttar_pradesh2024\"\n",
    "# res = re.findall( r\"p\\w\\w\" , message) # p _ _\n",
    "# print( res )\n",
    "\n",
    "res = re.findall( r\"p\\w{2,5}\" , message) # p _ _\n",
    "print( res )\n",
    "\n",
    "res = re.findall( r\"\\bp\\w{2,5}\\b\" , message) # p _ _\n",
    "print( res )\n",
    "\n"
   ]
  },
  {
   "cell_type": "code",
   "execution_count": null,
   "id": "a3225296",
   "metadata": {},
   "outputs": [],
   "source": []
  },
  {
   "cell_type": "code",
   "execution_count": 42,
   "id": "eb93e7e2",
   "metadata": {},
   "outputs": [
    {
     "name": "stdout",
     "output_type": "stream",
     "text": [
      "PAttern -->  ['polo', 'python', 'pizza', 'ping', 'prades']\n"
     ]
    }
   ],
   "source": [
    "# find out the patterns that start with 'p' and are minimum 2 to maximum 5 length\n",
    "import re\n",
    "message = \"upi p polo python pizza taping cope uttar_pradesh2024\"\n",
    "res = re.findall( r\"p\\w{2,5}\" , message) \n",
    "# res = re.findall( r\"p\\w{20,}\" , message)\n",
    "\n",
    "if res : # TRUE \n",
    "    print(\"PAttern --> \", res)\n",
    "else : # FALSE\n",
    "    print(\".... NO Such Pattern ..\")"
   ]
  },
  {
   "cell_type": "code",
   "execution_count": 46,
   "id": "f2ab7215",
   "metadata": {},
   "outputs": [
    {
     "name": "stdout",
     "output_type": "stream",
     "text": [
      "PAttern -->  ['5', '4', '5', '4', '8', '7', '4', '5', '1', '2', '1', '2', '0', '3']\n"
     ]
    }
   ],
   "source": [
    "# Find the OTP and mobile number\n",
    "import re\n",
    "message = \"an otp 5454 is shared on mobile number 8745121203\"\n",
    "\n",
    "res = re.findall( \"\\d\" , message)\n",
    "if res : # TRUE \n",
    "    print(\"PAttern --> \", res)\n",
    "else : # FALSE\n",
    "    print(\".... NO Such Pattern ..\")"
   ]
  },
  {
   "cell_type": "code",
   "execution_count": 47,
   "id": "0f8aea1e",
   "metadata": {},
   "outputs": [
    {
     "name": "stdout",
     "output_type": "stream",
     "text": [
      "PAttern -->  ['5454', '8745', '1212']\n"
     ]
    }
   ],
   "source": [
    "# Find the OTP and mobile number\n",
    "import re\n",
    "message = \"an otp 5454 is shared on mobile number 8745121203\"\n",
    "\n",
    "res = re.findall( \"\\d{4}\" , message)\n",
    "if res : # TRUE \n",
    "    print(\"PAttern --> \", res)\n",
    "else : # FALSE\n",
    "    print(\".... NO Such Pattern ..\")"
   ]
  },
  {
   "cell_type": "code",
   "execution_count": 51,
   "id": "2e89066d",
   "metadata": {},
   "outputs": [
    {
     "name": "stdout",
     "output_type": "stream",
     "text": [
      "PAttern -->  ['205454']\n"
     ]
    }
   ],
   "source": [
    "# Find the OTP and mobile number\n",
    "import re\n",
    "# message = \"an otp 5454 is shared on mobile number 8745121203\"\n",
    "message = \"an otp 205454 is shared on mobile number 8745121203\"\n",
    "\n",
    "res = re.findall( r\"\\b\\d{4,6}\\b\" , message)\n",
    "if res : # TRUE \n",
    "    print(\"PAttern --> \", res)\n",
    "else : # FALSE\n",
    "    print(\".... NO Such Pattern ..\")"
   ]
  },
  {
   "cell_type": "code",
   "execution_count": 55,
   "id": "9cba4c82",
   "metadata": {},
   "outputs": [
    {
     "name": "stdout",
     "output_type": "stream",
     "text": [
      "PAttern -->  ['8745121203', '6685487146']\n"
     ]
    }
   ],
   "source": [
    "# Find the OTP and mobile number\n",
    "import re\n",
    "# message = \"an otp 5454 is shared on mobile number 8745121203\"\n",
    "# message = \"an otp 205454 is shared on mobile number 8745121203\"\n",
    "message = \"an otp 205454 is shared on mobile number 8745121203 6685487146\"\n",
    "\n",
    "res = re.findall( r\"\\b\\d{10}\\b\" , message)\n",
    "if res : # TRUE \n",
    "    print(\"PAttern --> \", res)\n",
    "else : # FALSE\n",
    "    print(\".... NO Such Pattern ..\")"
   ]
  },
  {
   "cell_type": "code",
   "execution_count": null,
   "id": "aba58692",
   "metadata": {},
   "outputs": [],
   "source": []
  },
  {
   "cell_type": "code",
   "execution_count": 57,
   "id": "6d655072",
   "metadata": {},
   "outputs": [
    {
     "name": "stdout",
     "output_type": "stream",
     "text": [
      "['pi', 'polo', 'pizza', 'ping', 'pe']\n",
      "['pi', 'polo', 'pizza', 'ping', 'pe']\n"
     ]
    }
   ],
   "source": [
    "# find out the patterns that start with 'p' and the next one is vowel\n",
    "import re\n",
    "message = \"upi p polo python pizza taping cope uttar_pradesh2024\"\n",
    "\n",
    "res = re.findall( r\"p[aeiouAEIOU]\\w{0,}\" , message) # p\n",
    "print( res )\n",
    "\n",
    "# pi  p _ {}\n",
    "\n",
    "res = re.findall( r\"p[aeiouAEIOU]{1}\\w{0,}\" , message) # p\n",
    "print( res )\n"
   ]
  },
  {
   "cell_type": "code",
   "execution_count": null,
   "id": "7a5778eb",
   "metadata": {},
   "outputs": [],
   "source": []
  },
  {
   "cell_type": "code",
   "execution_count": 58,
   "id": "b56b9e9b",
   "metadata": {},
   "outputs": [
    {
     "name": "stdout",
     "output_type": "stream",
     "text": [
      "PAttern -->  ['nitish@gmail.com', 'comapny1992@yahoo.com']\n"
     ]
    }
   ],
   "source": [
    "# Find the emails\n",
    "import re\n",
    "message = \"an otp 205454 is shared on mobile number 8745121203 6685487146 nitish@gmail.com and comapny1992@yahoo.com comapny.delhi@yahoo.in\"\n",
    "\n",
    "res = re.findall( r\"\\b\\w{1,}@\\w{1,}.\\w{1,}\\b\" , message)\n",
    "if res : # TRUE \n",
    "    print(\"PAttern --> \", res)\n",
    "else : # FALSE\n",
    "    print(\".... NO Such Pattern ..\")"
   ]
  },
  {
   "cell_type": "code",
   "execution_count": 60,
   "id": "fb8489d7",
   "metadata": {},
   "outputs": [
    {
     "name": "stdout",
     "output_type": "stream",
     "text": [
      "PAttern -->  ['comapny.delhi@yahoo.in']\n"
     ]
    }
   ],
   "source": [
    "# word = 'comapny1992@yahoo.com'\n",
    "word = 'comapny.delhi@yahoo.in'\n",
    "res = re.findall( r\"\\b\\w{1,}[.]{0,1}\\w{1,}@\\w{1,}.\\w{1,}\\b\" , word)\n",
    "if res : # TRUE \n",
    "    print(\"PAttern --> \", res)\n",
    "else : # FALSE\n",
    "    print(\".... NO Such Pattern ..\")"
   ]
  },
  {
   "cell_type": "code",
   "execution_count": null,
   "id": "b4eea216",
   "metadata": {},
   "outputs": [],
   "source": []
  },
  {
   "cell_type": "code",
   "execution_count": null,
   "id": "33efa086",
   "metadata": {},
   "outputs": [],
   "source": [
    "# search, match, sub, split\n",
    "# search, match use findall.....\n",
    "\n"
   ]
  },
  {
   "cell_type": "code",
   "execution_count": null,
   "id": "31498257",
   "metadata": {},
   "outputs": [],
   "source": []
  },
  {
   "cell_type": "code",
   "execution_count": null,
   "id": "bbcffa4a",
   "metadata": {},
   "outputs": [],
   "source": []
  },
  {
   "cell_type": "code",
   "execution_count": null,
   "id": "26c81b2c",
   "metadata": {},
   "outputs": [],
   "source": []
  }
 ],
 "metadata": {
  "kernelspec": {
   "display_name": "Python 3 (ipykernel)",
   "language": "python",
   "name": "python3"
  },
  "language_info": {
   "codemirror_mode": {
    "name": "ipython",
    "version": 3
   },
   "file_extension": ".py",
   "mimetype": "text/x-python",
   "name": "python",
   "nbconvert_exporter": "python",
   "pygments_lexer": "ipython3",
   "version": "3.11.5"
  }
 },
 "nbformat": 4,
 "nbformat_minor": 5
}
